{
 "cells": [
  {
   "cell_type": "markdown",
   "id": "5d628172",
   "metadata": {},
   "source": [
    "# COMPUTATIONAL MORPHOLOGY WITH HFST TOOLS - LECTURE 6\n",
    "\n",
    "<ul>\n",
    " <li>1. <a href=\"#1.-Two-level-rules\">Two-level rules</a></li>\n",
    " <li>2. <a href=\"#2.-Example:-English-adjectives\">Example: English adjectives</a></li>\n",
    " <li>3. <a href=\"#3.-Twol-rule-operators\">Twol rule operators</a></li>\n",
    " <li>4. <a href=\"#4.-Example:-consonant-gradation-in-Finnish\">Example: consonant gradation in Finnish</a></li>\n",
    " <li>5. <a href=\"#5.-Assignments\"></a>Assignments</li>\n",
    "</ul>\n",
    "\n",
    "## 1. Two-level rules\n",
    "\n",
    "### 1.1. Xfst rules revisited\n",
    "\n",
    "Recall the finite-state transducer for I&P English noun inflection (from lecture 1):\n",
    "\n",
    "<img src=\"img/noun_inflection.png\">\n",
    "\n",
    "```\n",
    "Example input:    ∅sky+N+Pl+Poss\n",
    "Example output:   ∅sky^  s  '\n",
    "```\n",
    "\n",
    "Xfst rules are placed in a series.\n",
    "We compose our lexicon with our rewrite rules (called “replace rules” in xfst)\n",
    "and  produce one single FST that “jumps” from the lexical-form input straight to\n",
    "the final output in one go, without producing the intermediate steps.\n",
    "\n",
    "<i>Figures taken from an unpublished chapter \"Two-Level Rule Compiler\" of Beesley & Karttunen: Finite State Morphology, CSLI Publications, 2003.</i>\n",
    "\n",
    "<img src=\"img/cascade.png\">\n",
    "\n",
    "```\n",
    "Example input:  sky+N+Pl+Poss\n",
    "Lexicon output: sky^s'\n",
    "Rule 1 output:  sky^es\n",
    "Rule 2 output:  ski^es\n",
    "Rule 3 output:  skies\n",
    "```\n",
    "\n",
    "The single FST will directly give: sky+N+Pl+Poss 🡒 skies.\n",
    "\n",
    "The order of the rules matters!\n",
    "\n",
    "### 1.2. Two-level approach\n",
    "\n",
    "#### Two-level morphology is different\n",
    "\n",
    "<img src=\"img/series.png\">\n",
    "\n",
    "<ul>\n",
    " <li>The order of the rules does not matter</li>\n",
    " <li>The rule transducers are combined by intersection rather than composition</li>\n",
    "</ul>\n",
    "\n",
    "#### Compare rule declarations for xfst vs. twol:\n",
    "\n",
    "<img src=\"img/rule_declarations_compared.png\">\n",
    "\n",
    "#### Some of the twol notation explained:\n",
    "\n",
    "<img src=\"img/twol_notation_explained.png\">"
   ]
  },
  {
   "cell_type": "markdown",
   "id": "dd43bda8",
   "metadata": {},
   "source": [
    "## 2. Example: English adjectives\n",
    "\n",
    "### 2.1. The lexicon\n",
    "\n",
    "Recall the lexicon (lexc) of some English adjectives from lecture 2:\n",
    "\n",
    "```\n",
    "Multichar_Symbols\n",
    "+A       ! Adjective tag\n",
    "+Pos     ! Positive\n",
    "+Cmp     ! Comparative\n",
    "+Sup     ! Superlative\n",
    "\n",
    "LEXICON Root\n",
    "Adjectives ;\n",
    "\n",
    "LEXICON Adjectives\n",
    "big     A ;\n",
    "cool    A ;\n",
    "crazy   A ;\n",
    "great   A ;\n",
    "grim    A ;\n",
    "happy   A ;\n",
    "hot     A ;\n",
    "long    A ;\n",
    "quick   A ;\n",
    "sad     A ;\n",
    "short   A ;\n",
    "slow    A ;\n",
    "small   A ;\n",
    "warm    A ;\n",
    "\n",
    "LEXICON A\n",
    "+A:^    Comparison ;\n",
    "\n",
    "LEXICON Comparison\n",
    "+Pos:0  # ;\n",
    "+Cmp:er # ;\n",
    "+Sup:est  # ;\n",
    "\n",
    "END\n",
    "```\n",
    "\n",
    "### 1.2. xfst vs. twolc\n",
    "\n",
    "Also recall the corrected script (xfst) from Lecture 2 that is shown below with an equivalent script implemented with twolc:\n",
    "\n",
    "<img src=\"img/xfst_and_twolc_scripts.png\">\n",
    "\n",
    "Which one to use is mostly a matter of taste. The xfst syntax allows lexicon to be read from file\n",
    "and composed with the rules. In twolc, this must be done by hand. Compare the following:"
   ]
  },
  {
   "cell_type": "code",
   "execution_count": null,
   "id": "f07df292",
   "metadata": {},
   "outputs": [],
   "source": [
    "from hfst_dev import compile_xfst_file, compile_twolc_file, compile_lexc_file\n",
    "from hfst_dev import intersect, compose, HfstTransducer"
   ]
  },
  {
   "cell_type": "code",
   "execution_count": null,
   "id": "34ae8daa",
   "metadata": {},
   "outputs": [],
   "source": [
    "# The xfst script reads en_ip_adjectives_lexicon.lexc, composes it\n",
    "# with the xfst rules, and stores the result to en_adjectives.xfst.hfst.\n",
    "compile_xfst_file('en_adjectives.xfst')\n",
    "xfst = HfstTransducer.read_from_file('en_adjectives.xfst.hfst')\n",
    "print(xfst.lookup('big+A+Pos'))"
   ]
  },
  {
   "cell_type": "code",
   "execution_count": null,
   "id": "3a71fdab",
   "metadata": {},
   "outputs": [],
   "source": [
    "# Explicitely compile the lexicon.\n",
    "lexicon = compile_lexc_file('en_adjectives.lexc')\n",
    "# Compile the twolc file\n",
    "twolc_rules = compile_twolc_file('en_adjectives.twolc')\n",
    "# intersect the rules (not compose!),\n",
    "twolc_rule = intersect(twolc_rules)\n",
    "# and the lexicon with them.\n",
    "twolc = compose((lexicon, twolc_rule))\n",
    "print(twolc.lookup('big+A+Pos'))"
   ]
  },
  {
   "cell_type": "code",
   "execution_count": null,
   "id": "7d37fcf0",
   "metadata": {},
   "outputs": [],
   "source": [
    "# The results should be the same.\n",
    "assert(twolc.compare(xfst))"
   ]
  },
  {
   "cell_type": "markdown",
   "id": "cea52bd1",
   "metadata": {},
   "source": [
    "## 3. Twol rule operators\n",
    "\n",
    "<i>Figures taken from an unpublished chapter \"Two-Level Rule Compiler\" of Beesley & Karttunen: Finite State Morphology, CSLI Publications, 2003.\"</i>\n",
    "\n",
    "### 3.1. twolc rule operators\n",
    "\n",
    "<img src=\"img/twolc_rule_operators.png\">\n",
    "\n",
    "### 3.2. Examples of twolc operators in context\n",
    "\n",
    "<img src=\"img/twolc_rule_operator_examples.png\">\n",
    "\n",
    "### 3.3. Resolving conflicting rules\n",
    "\n",
    "<img src=\"img/resolving_conflicting_rules.png\">"
   ]
  },
  {
   "cell_type": "code",
   "execution_count": null,
   "id": "e5ec3b7b",
   "metadata": {},
   "outputs": [],
   "source": [
    "twolc_rules = compile_twolc_file('conflicting_rules.twolc')\n",
    "twolc = intersect(twolc_rules)\n",
    "print(twolc.lookup('rar'))\n",
    "print(twolc.lookup('lar'))"
   ]
  },
  {
   "cell_type": "markdown",
   "id": "3a1b08e4",
   "metadata": {},
   "source": [
    "Expect the result:\n",
    "```\n",
    "rar: (('rbr', 0.0),)\n",
    "lar: (('lcr', 0.0),)\n",
    "```"
   ]
  },
  {
   "cell_type": "markdown",
   "id": "c3a07b12",
   "metadata": {},
   "source": [
    "## 4. Example: consonant gradation in Finnish\n",
    "\n",
    "<i>Examples taken from an unpublished chapter \"Two-Level Rule Compiler\" of Beesley & Karttunen: Finite State Morphology, CSLI Publications, 2003..</i>\n",
    "\n",
    "### 4.1. Consonant gradation in Finnish\n",
    "\n",
    "<img src=\"img/consonant_gradation_in_finnish.png\"> \n",
    "\n",
    "### 4.2. Two-level grammar for consonant gradation\n",
    "\n",
    "<img src=\"img/consonant_gradation_twolc.png\">\n",
    "\n",
    "## More information\n",
    "\n",
    "<ul>\n",
    " <li>Unpublished chapter of Beesley & Karttunen (2003): <a href=\"http://web.stanford.edu/~laurik/.book2software/twolc.pdf\">“Two-Level Rule Compiler”</a></li>\n",
    " <li>Karttunen & Beesley (1992): Two-Level Rule Compiler. Technical Report. ISTL-92-2. Xerox Palo Alto Research Center, California.</li>\n",
    " <li><a href=\"https://github.com/hfst/hfst/wiki/HfstTwolc\">hfst-twolc</a> command line tool</li>\n",
    "</ul>\n"
   ]
  },
  {
   "cell_type": "markdown",
   "id": "673ba4bc",
   "metadata": {},
   "source": [
    "## 5. Assignments\n",
    "\n",
    "### Assignment 6.1: Test twolc\n",
    "\n",
    "In this task, you will test how two-level rules, so-called twol rules, work.\n",
    "\n",
    "First, compile the lexicon and twol rules.\n",
    "They are the same that were presented in section 1.2 of this lecture."
   ]
  },
  {
   "cell_type": "code",
   "execution_count": null,
   "id": "79193007",
   "metadata": {},
   "outputs": [],
   "source": [
    "# Compile the twolc file\n",
    "lexicon = compile_lexc_file('en_adjectives.lexc')\n",
    "# Compile the twolc file\n",
    "twolc_rules = compile_twolc_file('en_adjectives.twolc')\n",
    "# intersect the rules (not compose!),\n",
    "twolc_rule = intersect(twolc_rules)\n",
    "# and the lexicon with them.\n",
    "twolc = compose((lexicon, twolc_rule))\n",
    "print(twolc.lookup('big+A+Pos'))"
   ]
  },
  {
   "cell_type": "code",
   "execution_count": null,
   "id": "bca41c7a",
   "metadata": {},
   "outputs": [],
   "source": [
    "# Write the transducer to file.\n",
    "twolc.write_to_file('en_adjectives_generator.hfst')"
   ]
  },
  {
   "cell_type": "markdown",
   "id": "0e4f7a38",
   "metadata": {},
   "source": [
    "Then, invert the transducer to get an analyzer"
   ]
  },
  {
   "cell_type": "code",
   "execution_count": null,
   "id": "82f53245",
   "metadata": {},
   "outputs": [],
   "source": [
    "twolc.invert()\n",
    "twolc.minimize()\n",
    "print(twolc.lookup('craziest'))"
   ]
  },
  {
   "cell_type": "markdown",
   "id": "cb512c1e",
   "metadata": {},
   "source": [
    "Finally, test the xfst shell.\n",
    "When you see the prompt <tt>hfst[0]</tt>, load the twol transducer as follows:\n",
    "`load stack en_adjectives_generator.hfst`\n",
    "Then collect some random surface forms by typing random-lower a couple of times."
   ]
  },
  {
   "cell_type": "code",
   "execution_count": null,
   "id": "6e783950",
   "metadata": {},
   "outputs": [],
   "source": [
    "from hfst_dev import start_xfst\n",
    "start_xfst()"
   ]
  },
  {
   "cell_type": "markdown",
   "id": "85f9f732",
   "metadata": {},
   "source": [
    "### Assignment 6.2: English adjectives using twolc\n",
    "\n",
    "If you have done Assignment 2.1, you will need the file en_ip_adjectives_lexicon.lexc with your modifications.\n",
    "\n",
    "If you have not done Assignment 2.1, you need to add four new adjectives to the Adjectives lexicon in the file en_ip_adjectives_lexicon.lexc: cute, nice, safe, wise.\n",
    "\n",
    "Next, modify the twol rules in the file en_adjectives.twolc to produce the correct inflections for the new adjectives “cute”, “nice”, “safe”, and “wise”.\n",
    "Remember to update the alphabet section at the top of the twol file as well.\n",
    "\n",
    "Rebuild the FST as described in Assignment 6.1.\n",
    "\n",
    "Test the FST using xfst shell as described in Assignment 6.1.\n",
    "\n",
    "Collect all surface forms using the command lower-words. Verify that all forms are correct.\n",
    "\n",
    "See <a href=\"https://github.com/hfst/hfst/wiki/HfstLexcAndTwolcTutorial\">lexc and twolc tutorial</a> and also instructions of <a href=\"https://github.com/hfst/hfst/wiki/HfstTwolc\">hfst-twolc command line tool</a>."
   ]
  },
  {
   "cell_type": "code",
   "execution_count": null,
   "id": "adf9a076",
   "metadata": {},
   "outputs": [],
   "source": [
    "pass # <write your solution here>"
   ]
  },
  {
   "cell_type": "markdown",
   "id": "e131893c",
   "metadata": {},
   "source": [
    "### Assignment 6.3: Consonant gradation for Finnish nouns with lexc and twolc\n",
    "\n",
    "In this assignment you will work on Finnish consonant gradation. You have the following files: fin_cons_grad.lexc and fin_cons_grad.twolc.\n",
    "\n",
    "In Assignment 6.1, there are detailed instruction how to build a transducer out of these files.\n",
    "You just need to replace the file names.\n",
    "The model file that you produce and should load into xfst shell using the load stack command will be called fin_cons_grad_generator.hfst (rather than en_adjectives_generator.hfst).\n",
    "\n",
    "Start the task by verifying that you can load the existing model into xfst shell and run `upper-words` and `lower-words`."
   ]
  },
  {
   "cell_type": "code",
   "execution_count": null,
   "id": "3d267dea",
   "metadata": {},
   "outputs": [],
   "source": [
    "pass # <write your solution here>"
   ]
  },
  {
   "cell_type": "markdown",
   "id": "28c324d9",
   "metadata": {},
   "source": [
    "Next, your task is to extend the vocabulary in the lexc file. You don't need to modify any other file. Don't change the two-level rules.\n",
    "\n",
    "Add at least ten new Finnish nouns to the lexicon.\n",
    "\n",
    "* The nouns should have different morpho-phonological structure, such that you demonstrate the different consonant gradation patterns through these nouns.\n",
    "* At least five of the new nouns should contain front-vowels (ä, ö, y, e, i) and take the ending -ä in partitive singular. Currently, there are no such nouns in the lexicon file.\n",
    "* If you don't know Finnish, you are allowed to invent your own nonsense words, as long as they behave as Finnish words with consonant gradation.\n",
    "* After you have added your words, recompile your model. Load it into xfst shell and run `upper-words` and `lower-words`."
   ]
  },
  {
   "cell_type": "code",
   "execution_count": null,
   "id": "4c216e4c",
   "metadata": {},
   "outputs": [],
   "source": [
    "pass # <write your solution here>"
   ]
  },
  {
   "cell_type": "markdown",
   "id": "1caad997",
   "metadata": {},
   "source": [
    "PS: Vowel harmony can be implemented using two-level rules as well,\n",
    "but in this assignment we create two different inflection paradigms in the lexc file:\n",
    "stems with back vowels, on the one hand, and stems with front vowels, on the other hand."
   ]
  }
 ],
 "metadata": {
  "jupytext": {
   "cell_metadata_filter": "-all",
   "main_language": "python",
   "notebook_metadata_filter": "-all"
  }
 },
 "nbformat": 4,
 "nbformat_minor": 5
}
