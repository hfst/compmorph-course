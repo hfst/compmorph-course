{
 "cells": [
  {
   "cell_type": "markdown",
   "id": "10ece18e",
   "metadata": {},
   "source": [
    "# COMPUTATIONAL MORPHOLOGY WITH HFST TOOLS - LECTURE 1\n",
    "\n",
    "<ul>\n",
    "<li>1. <a href=\"#1.-Prerequisites\">Prerequisites</a></li>\n",
    "<li>2. <a href=\"#2.-Course-material\">Course material</a></li>\n",
    "<li>3. <a href=\"#3.-Course-overview\">Course overview</a></li>\n",
    "<li>4. <a href=\"#4.-Hockett's-models-of-morphology\">Hockett's models of morphology</a></li>\n",
    "<li>5. <a href=\"#5.-Morphological-generators-and-analyzers\">Morphological generators and analyzers</a></li>\n",
    "<li>6. <a href=\"#6.-A-Finite-State-Transducer-that-implements-a-morphological-generator\">A Finite-State Transducer that implements a morphological generator</a></li>\n",
    "<li>7. <a href=\"#7.-Lexc-code-that-represents-this-transducer\">Lexc code that represents this transducer</a></li>\n",
    "<li>8. <a href=\"#8.-Assignments\">Assignments</a></li>\n",
    "</ul>\n",
    "\n",
    "## HFST - Helsinki Finite-State Technology\n",
    "\n",
    "The HFST toolkit is intended for processing natural language\n",
    "morphologies. The toolkit is demonstrated by wide-coverage\n",
    "implementations of a number of languages of varying morphological\n",
    "complexity. HFST is written mainly in C++, but there is also a Python interface\n",
    "which is demonstrated on these notebooks.\n",
    "\n",
    "## 1. Prerequisites\n",
    "\n",
    "<ul>\n",
    "<li>Foundations of general linguistics</li>\n",
    "<li>Basic knowledge on how to use a computer</li>\n",
    "<li>Some programming experience is desirable</li>\n",
    "<li>Knowledge of Natural Language Processing (NLP) is also a plus</li>\n",
    "</ul>\n",
    "\n",
    "## 2. Course material\n",
    "\n",
    "If you want a book:\n",
    "\n",
    "<ul>\n",
    "<li>Kenneth R. Beesley and Lauri Karttunen: <a href=\"http://press.uchicago.edu/ucp/books/book/distributed/F/bo3613750.html\">Finite State Morphology</a>, CSLI Publications, 2003</li>\n",
    "<li>Daniel Jurafsky and James H. Martin, Speech and Language Processing, Prentice Hall, second edition, 2009</li>\n",
    "</ul>\n",
    "\n",
    "Links:\n",
    "\n",
    "<ul>\n",
    "<li>HFST <a href=\"https://hfst.github.io\">main page</a>.</li>\n",
    "<li>For installation of the HFST package for Python, see our <a href=\"https://pypi.org/project/hfst_dev/\">PyPI pages</a>.</li>\n",
    "<li>For more information about the interface, see our <a href=\"https://github.com/hfst/python-hfst-4.0/wiki\">Github wiki pages</a>.</li>\n",
    "</ul>\n",
    "\n",
    "First, import the package and list its contents with `help`."
   ]
  },
  {
   "cell_type": "code",
   "execution_count": null,
   "id": "559dfcbc",
   "metadata": {},
   "outputs": [],
   "source": [
    "import hfst_dev\n",
    "help(hfst_dev)"
   ]
  },
  {
   "cell_type": "markdown",
   "id": "c28ec96c",
   "metadata": {},
   "source": [
    "Then, see for more information on some of the functions, e.g. `compile_lexc_file`."
   ]
  },
  {
   "cell_type": "code",
   "execution_count": null,
   "id": "ef5a80cf",
   "metadata": {},
   "outputs": [],
   "source": [
    "help(hfst_dev.compile_lexc_file)"
   ]
  },
  {
   "cell_type": "markdown",
   "id": "b64f2443",
   "metadata": {},
   "source": [
    "Also print the version number of the package."
   ]
  },
  {
   "cell_type": "code",
   "execution_count": null,
   "id": "d106ba3e",
   "metadata": {},
   "outputs": [],
   "source": [
    "print(hfst_dev.__version__)"
   ]
  },
  {
   "cell_type": "markdown",
   "id": "5d66a9d0",
   "metadata": {},
   "source": [
    "## 3. Course overview\n",
    "\n",
    "This web course is based largely on the course <a href=\"https://courses.helsinki.fi/en/LDA-T3101/120259674\">”Computational Morphology”</a> held at the University of Helsinki spring 2018.\n",
    "The course was taught and planned by Mathias Creutz. Senka Drobac also contributed to the exercises.\n",
    "The web course uses the same examples and exercises, but HFST command line tools have been replaced with HFST Python interface.\n",
    "\n",
    "<table>\n",
    "<tr> <th>Lecture</th> <th>Topics</th> </tr>\n",
    "<tr> <td>1</td> <td>Theories of morphology, generators and analyzers, lexc</td> </tr>\n",
    "<tr> <td>2</td> <td>Finite-state basics, xfst rules</td> </tr>\n",
    "<tr> <td>3</td> <td>Disambiguation, probabilities, finite-state networks summarized</td> </tr>\n",
    "<tr> <td>(4)</td> <td>(Machine learning)</td> </tr>\n",
    "<tr> <td>5</td> <td>Guessers, stemmers, regular expressions in xfst</td> </tr>\n",
    "<tr> <td>6</td> <td>Twolc, two-level rules</td> </tr>\n",
    "<tr> <td>7</td> <td>Flag diacritics, non-concatenative morphology</td> </tr>\n",
    "<tr> <td>8</td> <td>Optimization of finite-state networks</td> </tr>\n",
    "</table>"
   ]
  },
  {
   "cell_type": "markdown",
   "id": "d768ac8c",
   "metadata": {},
   "source": [
    "## 4. Hockett's models of morphology\n",
    "\n",
    "### 4.1. Word and Paradigm (W&P), Example: Finnish nouns\n",
    "\n",
    "<table>\n",
    "<tr> <th>Numbers/Cases</th> <th>Singular</th> <th>Plural</th> </tr>\n",
    "<tr> <th>Nominative</th> <td>susi</td> <td>sudet</td> </tr>\n",
    "<tr> <th>Genitive</th> <td>suden</td> <td>susien, sutten</td> </tr>\n",
    "<tr> <th>Partitive</th> <td>sutta</td> <td>susia</td> </tr>\n",
    "<tr> <th>Inessive</th> <td>sudessa</td> <td>susissa</td> </tr>\n",
    "<tr> <th>Elative</th> <td>sudesta</td> <td>susista</td> </tr>\n",
    "<tr> <th>Illative</th> <td>suteen</td> <td>susiin</td> </tr>\n",
    "<tr> <th>Adessive</th> <td>sudella</td> <td>susilla</td> </tr>\n",
    "<tr> <th>Ablative</th> <td>sudelta</td> <td>susilta</td> </tr>\n",
    "<tr> <th>Allative</th> <td>sudelle</td> <td>susille</td> </tr>\n",
    "<tr> <th>Essive</th> <td>sutena</td> <td>susina</td> </tr>\n",
    "<tr> <th>Translative</th> <td>sudeksi</td> <td>susiksi</td> </tr>\n",
    "<tr> <th>Instructive</th> <td>-</td> <td>susin</td> </tr>\n",
    "<tr> <th>Abessive</th> <td>sudetta</td> <td>susitta</td> </tr>\n",
    "<tr> <th>Comitative</th> <td>-</td> <td>susine(en)</td> </tr>\n",
    "</table>"
   ]
  },
  {
   "cell_type": "markdown",
   "id": "4a125fa6",
   "metadata": {},
   "source": [
    "### 4.2. Item and Arrangement (I&A)\n",
    "\n",
    "#### Morphemes and allomorphs\n",
    "\n",
    "<ul>\n",
    " <li>\"SUSI\": susi, sude-, sute-, sut-, sus-</li>\n",
    " <li>Number:</li>\n",
    "  <ul>\n",
    "   <li>Singular: ∅ (or no morpheme at all: unmarked)</li>\n",
    "   <li>Plural: -t, -i-, -j-</li>\n",
    "  </ul>\n",
    " <li>Case:</li>\n",
    "  <ul>\n",
    "    <li>Genitive: -n, -en, -den, -tten</li>\n",
    "    <li>Partitive: -a, -ä, -ta, -tä</li>\n",
    "    <li>Etc.</li>\n",
    "  </ul>\n",
    "</ul>\n",
    "\n",
    "#### The allomorphs occur in a specific distribution\n",
    "\n",
    "<ul>\n",
    " <li>E.g., sus- in all plural forms except nominative.</li>\n",
    " <li>No allomorph is more \"basic\" than any other.</li>\n",
    "</ul>\n",
    "\n",
    "### 4.3. Item and Process (I&P)\n",
    "\n",
    "We have roots or bases of morphemes and different processes apply to them.\n",
    "\n",
    "<ul>\n",
    " <li>Nominative: word final 'e' becomes 'i'; 't' in front of 'i' becomes 's' 🡒 \"susi\"</li>\n",
    " <li>Genitive: add suffix '+n'; soften 't' to 'd' in closed syllable 🡒 \"suden\"</li>\n",
    " <li>Etc.</li>\n",
    "</ul>\n",
    "\n",
    "### 4.4. Corresponding HFST tools\n",
    "\n",
    "<table>\n",
    "<tr> <th>Model/Tool</th> <th><a href=\"https://github.com/hfst/python-hfst-4.0/wiki/PackageHfst#compile_twolc_file-inputfilename-outputfilename-kwargs\">twolc</a></th> <th><a href=\"https://github.com/hfst/python-hfst-4.0/wiki/PackageHfst#compile_lexc_file-filename-kwargs\">lexc</a></th> <th><a href=\"https://github.com/hfst/python-hfst-4.0/wiki/PackageHfst#compile_xfst_file-filename-kwargs\">xfst</a></th> </tr>\n",
    "<tr> <th>Word & Paradigm</th> <td> </td> <td>✔</td> <td>✔</td> </tr>\n",
    "<tr> <th>Item & Arrangement</th> <td> </td> <td>✔</td> <td>✔</td> </tr>\n",
    "<tr> <th>Item & Process</th> <td>✔</td> <td> </td> <td>✔</td> </tr>\n",
    "</table>\n",
    "\n",
    "Check how they work with `help` command.\n",
    "\n",
    "#### twolc:"
   ]
  },
  {
   "cell_type": "code",
   "execution_count": null,
   "id": "f64ade75",
   "metadata": {},
   "outputs": [],
   "source": [
    "help(hfst_dev.compile_twolc_file)"
   ]
  },
  {
   "cell_type": "markdown",
   "id": "2e9c0692",
   "metadata": {},
   "source": [
    "#### lexc:"
   ]
  },
  {
   "cell_type": "code",
   "execution_count": null,
   "id": "b6b1a4c5",
   "metadata": {},
   "outputs": [],
   "source": [
    "help(hfst_dev.compile_lexc_file)"
   ]
  },
  {
   "cell_type": "markdown",
   "id": "b816c3fd",
   "metadata": {},
   "source": [
    "#### xfst:"
   ]
  },
  {
   "cell_type": "code",
   "execution_count": null,
   "id": "792b13b9",
   "metadata": {},
   "outputs": [],
   "source": [
    "help(hfst_dev.compile_xfst_file)"
   ]
  },
  {
   "cell_type": "markdown",
   "id": "22f52170",
   "metadata": {},
   "source": [
    "#### interactive version of xfst:"
   ]
  },
  {
   "cell_type": "code",
   "execution_count": null,
   "id": "aa1f58fe",
   "metadata": {},
   "outputs": [],
   "source": [
    "help(hfst_dev.start_xfst)"
   ]
  },
  {
   "cell_type": "markdown",
   "id": "7560a816",
   "metadata": {},
   "source": [
    "We will get back to these tools in later sections."
   ]
  },
  {
   "cell_type": "markdown",
   "id": "7eef10e0",
   "metadata": {},
   "source": [
    "## 5. Morphological generators and analyzers\n",
    "\n",
    "### 5.1. Morphological generator\n",
    "\n",
    "* Input (also called lexical form): `cat+N+Sg+Poss`\n",
    "* Output (also called surface form): `cat's`\n",
    "* The idea is to create a model that generalizes to new word forms.\n",
    "  - Primitive way: List all possible pairs of input and output in the lexeme:\n",
    "    * `cat+N+Sg` 🡒 cat\n",
    "    * `cat+N+Pl` 🡒 cats\n",
    "    * `cat+N+Sg+Poss` 🡒 cat's\n",
    "    * `cat+N+Pl+Poss` 🡒 cats'\n",
    "  - More sophisticated way: Model the inner regular morphological structure of words.\n",
    "    * This makes it possible to add a new lemma, such as `dog`, and the model knows how to inflect this word by analogy to the word `cat`.\n",
    "\n",
    "### 5.2. Morphological analyzer\n",
    "\n",
    "* Input (surface form): `cat's`\n",
    "* Output (lexical form): `cat+N+Sg+Poss`\n",
    "* An analyzer produces the opposite mapping compared to the generator:\n",
    "  - The input of the generator is the output of the analyzer.\n",
    "  - The output of the analyzer is the input of the generator.\n",
    "* An analyzer is very useful, for instance:\n",
    "  - when we want to parse natural language text syntactically\n",
    "  - when we want to <i>normalize</i> text, such that we only care about the base form (lemma) of every word in the text; this is used, for instance, in <i>information retrieval</i>.\n",
    "\n",
    "### 5.3. Some simple noun paradigms in English\n",
    "\n",
    "#### Paradigm: N\n",
    "\n",
    "<table>\n",
    "<tr> <td><b>cat</b></td> <td>+Sg (singular)</td> </tr>\n",
    "<tr> <td><b>cat|s</b></td> <td>+Pl (plural)</td> </tr>\n",
    "<tr> <td><b>cat|'s</b></td> <td>+Sg +Poss (singular possessive)</td> </tr>\n",
    "<tr> <td><b>cat|s'</b></td> <td>+Pl +Poss (plural possessive)</td> </tr>\n",
    "</table>\n",
    "\n",
    "<i>Similarly:</i> dog, pet, book, hill, fan\n",
    "\n",
    "#### Paradigm: N_s"
   ]
  },
  {
   "cell_type": "markdown",
   "id": "001b824b",
   "metadata": {},
   "source": [
    "(The understroke following the part-of-speech marker N with a subsequent mnemonic 's'\n",
    "is a transparent way of indicating allomorphic inflection types.)\n",
    "\n",
    "<table>\n",
    "<tr> <td><b>kiss</b></td> <td>+Sg (singular)</td> </tr>\n",
    "<tr> <td><b>kiss|es</b></td> <td>+Pl (plural)</td> </tr>\n",
    "<tr> <td><b>kiss|'s</b></td> <td>+Sg +Poss (singular possessive)</td> </tr>\n",
    "<tr> <td><b>kiss|es|'</b></td> <td>+Pl +Poss (plural possessive)</td> </tr>\n",
    "</table>\n",
    "\n",
    "<i>Similarly:</i> wish, mess, church, search, waitress\n",
    "\n",
    "Let's create a morphological generator and analyzer for this data."
   ]
  },
  {
   "cell_type": "markdown",
   "id": "ee026277",
   "metadata": {},
   "source": [
    "## 6. A Finite-State Transducer that implements a morphological generator\n",
    "\n",
    "Below is a finite-state transducer (FST) for purely concatenative I&A English noun inflection\n",
    "for our simple example data.\n",
    "The yellow circles represent _states_ and the arrows represent _transitions_ between the states.\n",
    "The state named <i>Root</i> is the initial state and state named <i>#</i> the final one.\n",
    "Above each transition, there is the input\n",
    "that the transition <i>consumes</i> and the output that it <i>produces</i>, separated by a colon \":\".\n",
    "The symbol ε stands for the <i>epsilon</i>, i.e. the empty symbol. On the input side it means that no symbol is consumed\n",
    "and on the output side that no symbol is produced.\n",
    "The \"ε:ε\" represents the <i>epsilon transition</i> which is possible without consuming\n",
    "any input or producing any output.\n",
    "We will return to finite-state transducers in more detail in the next part.\n",
    "\n",
    "<img src=\"img/noun_inflection.png\">"
   ]
  },
  {
   "cell_type": "markdown",
   "id": "da3078e5",
   "metadata": {},
   "source": [
    "## 7. Lexc code that represents this transducer\n",
    "\n",
    "### 7.1 Define all symbols consisting of multiple characters\n",
    "\n",
    "```\n",
    "Multichar_Symbols\n",
    "        +N      ! Noun tag\n",
    "        +Sg     ! Singular\n",
    "        +Pl     ! Plural\n",
    "        +Poss   ! Possessive form\n",
    "                ! Another comment that is ignored by the compiler\n",
    "```"
   ]
  },
  {
   "cell_type": "markdown",
   "id": "a7f49b54",
   "metadata": {},
   "source": [
    "Anything between an exclamation mark and the end of a line\n",
    "is a comment. Comments are ignored by the lexc compiler.\n",
    "Use comments a lot!\n",
    "Your code will be clearer to yourself and to others."
   ]
  },
  {
   "cell_type": "markdown",
   "id": "680d361f",
   "metadata": {},
   "source": [
    "### 7.2 Define the compulsory Root lexicon\n",
    "\n",
    "```\n",
    "LEXICON Root\n",
    "        Nouns ; ! No input, no output\n",
    "```\n",
    "\n",
    "This is equivalent to writing:\n",
    "\n",
    "```\n",
    "LEXICON Root\n",
    "0:0     Nouns ; ! Explicitly showing no input, no output\n",
    "```\n",
    "\n",
    "This is further equivalent to writing:\n",
    "\n",
    "```\n",
    "LEXICON Root\n",
    "0       Nouns ; ! When the input and output are identical,\n",
    "                ! you can type only the input side\n",
    "```\n",
    "\n",
    "<img src=\"img/root_lexicon.png\">"
   ]
  },
  {
   "cell_type": "markdown",
   "id": "e1829571",
   "metadata": {},
   "source": [
    "### 7.3 Define the Nouns lexicon\n",
    "\n",
    "```\n",
    "!\n",
    "! NOUNS start here\n",
    "!\n",
    "\n",
    "LEXICON Nouns\n",
    "\n",
    "&#99;at     N ;\n",
    "dog     N ;\n",
    "\n",
    "church  N_s ;\n",
    "kiss    N_s ;\n",
    "\n",
    "beauty:beaut    N_y ;\n",
    "sky:sk          N_y ; \n",
    "\n",
    "```\n",
    "\n",
    "<img src=\"img/nouns_lexicon.png\">"
   ]
  },
  {
   "cell_type": "markdown",
   "id": "e3bd045c",
   "metadata": {},
   "source": [
    "### 7.4 Continuation lexicons for the N paradigm\n",
    "\n",
    "```\n",
    "! The noun lexica N and Num are used for stems without\n",
    "! any alternation\n",
    "\n",
    "LEXICON N\n",
    "+N:0    Num ;\n",
    "\n",
    "LEXICON Num\n",
    "+Sg:0   PossWithS ;\n",
    "+Pl:s   PossWithoutS ;\n",
    "```\n",
    "\n",
    "<img src=\"img/n_paradigm.png\">"
   ]
  },
  {
   "cell_type": "markdown",
   "id": "1159453e",
   "metadata": {},
   "source": [
    "### 7.5 Continuation lexicons for the N_s paradigm\n",
    "\n",
    "```\n",
    "! The noun lexica N_s and Num_s are used for stems that\n",
    "! end in a sibilant and need an extra inserted \"e\"\n",
    "\n",
    "LEXICON N_s\n",
    "+N:0    Num_s ;\n",
    "\n",
    "LEXICON Num_s\n",
    "+Sg:0   PossWithS ;\n",
    "+Pl:es  PossWithoutS ;\n",
    "```\n",
    "\n",
    "<img src=\"img/ns_paradigm.png\">"
   ]
  },
  {
   "cell_type": "markdown",
   "id": "59d2cd4d",
   "metadata": {},
   "source": [
    "### 7.6 Continuation lexicons for the N_y paradigm\n",
    "\n",
    "```\n",
    "! The noun lexica N_y and Num_y are used for stems with\n",
    "! \"y\" -> \"ie\" alternation\n",
    "\n",
    "LEXICON N_y\n",
    "+N:0    Num_y ;\n",
    "\n",
    "LEXICON Num_y\n",
    "+Sg:y   PossWithS ;\n",
    "+Pl:ies PossWithoutS ;\n",
    "```\n",
    "\n",
    "<img src=\"img/ny_paradigm.png\">"
   ]
  },
  {
   "cell_type": "markdown",
   "id": "27949f30",
   "metadata": {},
   "source": [
    "### 7.7 Continuation lexicons for possessive marker\n",
    "\n",
    "```\n",
    "! Possessive markers: usually the singular is 's and\n",
    "! the plural is '\n",
    "\n",
    "LEXICON PossWithS\n",
    "+Poss:'s    # ; \n",
    "            # ; ! No ending: no input/output\n",
    "\n",
    "LEXICON PossWithoutS \n",
    "+Poss:'     # ;\n",
    "            # ; ! No ending: no input/output\n",
    "\n",
    "END\n",
    "```\n",
    "<img src=\"img/poss_ending.png\">\n",
    "\n",
    "Note that `END` signifies the end of lexc file. It must be included at the end of each lexc file."
   ]
  },
  {
   "cell_type": "markdown",
   "id": "66057c85",
   "metadata": {},
   "source": [
    "### 7.8. Compiling the lexc script into a transducer\n",
    "\n",
    "Finally, let's compile the lexc script into a transducer:"
   ]
  },
  {
   "cell_type": "code",
   "execution_count": null,
   "id": "1efedceb",
   "metadata": {},
   "outputs": [],
   "source": [
    "from hfst_dev import compile_lexc_script"
   ]
  },
  {
   "cell_type": "code",
   "execution_count": null,
   "id": "8e2eae12",
   "metadata": {},
   "outputs": [],
   "source": [
    "generator = compile_lexc_script(\n",
    "\"\"\"\n",
    "Multichar_Symbols\n",
    "        +N      ! Noun tag\n",
    "        +Sg     ! Singular\n",
    "        +Pl     ! Plural\n",
    "        +Poss   ! Possessive form\n",
    "\n",
    "LEXICON Root\n",
    "        Nouns ; ! No input, no output\n",
    "\n",
    "!\n",
    "! NOUNS start here\n",
    "!\n",
    "\n",
    "LEXICON Nouns\n",
    "\n",
    "cat     N ;\n",
    "dog     N ;\n",
    "\n",
    "church    N_s ;\n",
    "kiss      N_s ;\n",
    "\n",
    "beauty:beaut    N_y ;\n",
    "sky:sk          N_y ;\n",
    "\n",
    "\n",
    "! The noun lexica N and Num are used for stems without any alternation\n",
    "\n",
    "LEXICON N\n",
    "+N:0    Num ;\n",
    "\n",
    "LEXICON Num\n",
    "+Sg:0   PossWithS ;\n",
    "+Pl:s   PossWithoutS ;\n",
    "\n",
    "! The noun lexica N_s and Num_s are used for stems that end in a sibilant\n",
    "! and need an extra inserted \"e\"\n",
    "\n",
    "LEXICON N_s\n",
    "+N:0    Num_s ;\n",
    "\n",
    "LEXICON Num_s\n",
    "+Sg:0   PossWithS ;\n",
    "+Pl:es  PossWithoutS ;\n",
    "\n",
    "! The noun lexica N_y and Num_y are used for stems with \"y\" -> \"ie\" alternation\n",
    "\n",
    "LEXICON N_y\n",
    "+N:0    Num_y ;\n",
    "\n",
    "LEXICON Num_y\n",
    "+Sg:y   PossWithS ;\n",
    "+Pl:ies PossWithoutS ;\n",
    "\n",
    "! Possessive markers: usually the singular is 's and the plural is '\n",
    "\n",
    "LEXICON PossWithS\n",
    "+Poss:'s     # ;\n",
    "             # ; ! No ending: no input, no output\n",
    "\n",
    "LEXICON PossWithoutS\n",
    "+Poss:'      # ;\n",
    "             # ; ! No ending: no input, no output\n",
    "\n",
    "END\n",
    "\"\"\", verbosity=2\n",
    ")"
   ]
  },
  {
   "cell_type": "markdown",
   "id": "a7602356",
   "metadata": {},
   "source": [
    "We could also write the script to a file and then call `compile_lexc_file`. Note that we set the keyword argument `verbosity` to `2`.\n",
    "Then we will get more information about the compilation process.\n",
    "You can test the above command also with `verbosity=1` and `verbosity=0` (or just leaving the argument out).\n",
    "\n",
    "Test the transducer:"
   ]
  },
  {
   "cell_type": "code",
   "execution_count": null,
   "id": "852e83c5",
   "metadata": {},
   "outputs": [],
   "source": [
    "print(generator.lookup('sky+N+Pl'))"
   ]
  },
  {
   "cell_type": "markdown",
   "id": "21f3962f",
   "metadata": {},
   "source": [
    "and expect the result `(('skies', 0.0),)`, i.e. <i>skies</i> with a zero _weight_. We will return to weights in later lectures.\n",
    "\n",
    "Next, <a href=\"https://github.com/hfst/python-hfst-4.0/wiki/HfstTransducer#invert-self\">invert</a> the transducer to get an analyzer (i.e. swap the symbols of input and output side).\n",
    "After inversion, it is good to <a href=\"https://github.com/hfst/python-hfst-4.0/wiki/HfstTransducer#minimize-self\">minimize</a>\n",
    "the transducer (i.e. reduce it to an equivalent transducer with the smallest number of states)."
   ]
  },
  {
   "cell_type": "code",
   "execution_count": null,
   "id": "846f204c",
   "metadata": {},
   "outputs": [],
   "source": [
    "from hfst_dev import HfstTransducer\n",
    "analyzer = HfstTransducer(generator) # create a copy\n",
    "analyzer.invert()\n",
    "analyzer.minimize()"
   ]
  },
  {
   "cell_type": "code",
   "execution_count": null,
   "id": "c651811d",
   "metadata": {},
   "outputs": [],
   "source": [
    "print(analyzer.lookup('skies'))"
   ]
  },
  {
   "cell_type": "markdown",
   "id": "7c64ebb1",
   "metadata": {},
   "source": [
    "and expect the result `(('sky+N+Pl', 0.0),)`, i.e. \"the noun <i>sky</i> in plural with a zero weight\".\n",
    "\n",
    "Let's check that inverting the analyzer produces a transducer equivalent to the generator with HfstTransducer.compare:"
   ]
  },
  {
   "cell_type": "code",
   "execution_count": null,
   "id": "91fd291e",
   "metadata": {
    "lines_to_next_cell": 2
   },
   "outputs": [],
   "source": [
    "analyzer.invert()\n",
    "analyzer.minimize()\n",
    "print(analyzer.compare(generator))"
   ]
  },
  {
   "cell_type": "markdown",
   "id": "89f62b60",
   "metadata": {},
   "source": [
    "## 8. Assignments\n",
    "\n",
    "\n",
    "### Assignment 1.1: Testing a morphological generator\n",
    "\n",
    "Compile the lexicon en_ia_morphology_template.lexc into an hfst transducer.\n",
    "(The file contains the same lexc code that was used in example 7.8.)"
   ]
  },
  {
   "cell_type": "code",
   "execution_count": null,
   "id": "c4a1755a",
   "metadata": {},
   "outputs": [],
   "source": [
    "morph = hfst_dev.compile_lexc_file('en_ia_morphology_template.lexc', verbosity=2)"
   ]
  },
  {
   "cell_type": "markdown",
   "id": "e81aeded",
   "metadata": {},
   "source": [
    "Optimize the transducer for lookup:"
   ]
  },
  {
   "cell_type": "code",
   "execution_count": null,
   "id": "e7bc162c",
   "metadata": {},
   "outputs": [],
   "source": [
    "morph.lookup_optimize()"
   ]
  },
  {
   "cell_type": "markdown",
   "id": "cddd712e",
   "metadata": {},
   "source": [
    "Then test it:"
   ]
  },
  {
   "cell_type": "code",
   "execution_count": null,
   "id": "3ab33eaf",
   "metadata": {},
   "outputs": [],
   "source": [
    "print(morph.lookup('sky+N+Pl', output='text'))"
   ]
  },
  {
   "cell_type": "markdown",
   "id": "5e846088",
   "metadata": {},
   "source": [
    "... and expect the result: 'skies'.\n",
    "\n",
    "Your system works!"
   ]
  },
  {
   "cell_type": "markdown",
   "id": "12628332",
   "metadata": {},
   "source": [
    "For the noun sky, type in all four possible analyses (= lexical forms = input forms), and collect the corresponding surface forms (= output forms) as given by function HfstTransducer.lookup."
   ]
  },
  {
   "cell_type": "code",
   "execution_count": null,
   "id": "324ce4c1",
   "metadata": {},
   "outputs": [],
   "source": [
    "pass # write your solution here"
   ]
  },
  {
   "cell_type": "markdown",
   "id": "a9ec05af",
   "metadata": {},
   "source": [
    "### Assignment 1.2: Testing a morphological analyzer\n",
    "\n",
    "Invert your transducer, such that input becomes output and vice versa.\n",
    "Note that a lookup-optimized transducer supports only a couple of functions, so you need to remove optimization with\n",
    "<a href=\"https://github.com/hfst/python-hfst-4.0/wiki/HfstTransducer#remove_optimization-self\">HfstTransducer.remove_optimization</a> before calling e.g.\n",
    "<a href=\"https://github.com/hfst/python-hfst-4.0/wiki/HfstTransducer#invert-self\">HfstTransducer.invert</a>.\n",
    "\n",
    "This transducer works as an analyzer that retrieves the lexical form of surface forms.\n",
    "Collect the analyses for the following surface forms: dog's, skies, churches', beauty, cat."
   ]
  },
  {
   "cell_type": "code",
   "execution_count": null,
   "id": "d348413a",
   "metadata": {},
   "outputs": [],
   "source": [
    "pass # write your solution here"
   ]
  },
  {
   "cell_type": "markdown",
   "id": "7d1be841",
   "metadata": {},
   "source": [
    "### Assignment 1.3: Adding English nouns to the lexicon\n",
    "\n",
    "Add the following missing nouns to the lexc file en_ia_morphology_template.lexc:\n",
    "book, doggy, fan, hill, mess, pet, search, waitress, wish.\n",
    "\n",
    "Go to the browser tab where you chose this lecture (probably the tab on left side)\n",
    "and click the file en_ia_morphology_template.lexc. A new tab opens where you can edit\n",
    "the file. After you have added the missing nouns, remember to click File -> Save.\n",
    "(Tab charaters must be inserted by copying and pasting them.)\n",
    "\n",
    "Recompile the transducer using function compile_lexc_file.\n",
    "Collect the surface forms produced by HfstTransducer.lookup for the lexical forms:\n",
    "book+N+Sg, doggy+N+Pl, fan+N+Sg+Poss, mess+N+Pl, wish+N+Pl+Poss."
   ]
  },
  {
   "cell_type": "code",
   "execution_count": null,
   "id": "6b191319",
   "metadata": {},
   "outputs": [],
   "source": [
    "pass # write your solution here"
   ]
  },
  {
   "cell_type": "markdown",
   "id": "6a89eed8",
   "metadata": {},
   "source": [
    "Invert the transducer again using HfstTransducer.invert.\n",
    "Collect the lexical forms produced by HfstTransducer.lookup for the surface forms: books, doggy, pets', waitresses, waitress's, search."
   ]
  },
  {
   "cell_type": "code",
   "execution_count": null,
   "id": "2af6fd88",
   "metadata": {},
   "outputs": [],
   "source": [
    "pass # write your solution here"
   ]
  },
  {
   "cell_type": "markdown",
   "id": "6d21f2f9",
   "metadata": {},
   "source": [
    "### Assignment 1.4: Adding a new noun paradigm to the lexicon\n",
    "\n",
    "Add a new type of nouns to the lexc file, with a specific plural form: criterion - criteria, lexicon - lexica, phenomenon - phenomena.\n",
    "\n",
    "Recompile the transducer using compile_lexc_file. Collect the surface forms produced by HfstTransducer.lookup for the lexical forms: criterion+N+Pl, phenomenon+N+Sg+Poss, phenomenon+N+Pl+Poss."
   ]
  },
  {
   "cell_type": "code",
   "execution_count": null,
   "id": "af0cca05",
   "metadata": {},
   "outputs": [],
   "source": [
    "pass # write your solution here"
   ]
  },
  {
   "cell_type": "markdown",
   "id": "ea9bc860",
   "metadata": {},
   "source": [
    "For the word \"lexicon\", also allow the parallel regular plural form lexicon - lexicons. Recompile the transducer and collect the surface forms for the lexical forms:\n",
    "lexicon+N+Sg, lexicon+N+Pl, lexicon+N+Pl+Poss. Do you get duplicate surface forms for some lexical forms? If so, can you explain why?"
   ]
  },
  {
   "cell_type": "code",
   "execution_count": null,
   "id": "3419de49",
   "metadata": {},
   "outputs": [],
   "source": [
    "pass # write your solution here"
   ]
  },
  {
   "cell_type": "markdown",
   "id": "240300b9",
   "metadata": {},
   "source": [
    "Invert the transducer and collect the lexical forms for the surface forms: lexicons, lexica, criterion's, phenomenon."
   ]
  },
  {
   "cell_type": "code",
   "execution_count": null,
   "id": "45206421",
   "metadata": {},
   "outputs": [],
   "source": [
    "pass # write your solution here"
   ]
  },
  {
   "cell_type": "markdown",
   "id": "3345c260",
   "metadata": {},
   "source": [
    "### Assignment 1.5: Adding English verb inflection to the lexicon\n",
    "\n",
    "Add verb inflection to your lexc file. Include the three paradigms from the table below and all the verbs listed:\n",
    "jump, look, talk, walk, bake, fake, like, pile, smile, crash, hiss, kiss, miss, search.\n",
    "\n",
    "<table>\n",
    "<tr> <th>Base form</th> <th>Third Person Singular Present</th> <th>Present Participle</th> <th>Past</th> </tr>\n",
    "<tr> <td>jump</td> <td>jumps</td> <td>jumping</td> <td>jumped</td> </tr>\n",
    "<tr> <td>bake</td> <td>bakes</td> <td>baking</td> <td>baked</td> </tr>\n",
    "<tr> <td>crash</td> <td>crashes</td> <td>crashing</td> <td>crashed</td> </tr>\n",
    "</table>\n",
    "\n",
    "Use the tags +V, +Inf,  +Pres3Sg, +Past, +Prog, and remember to declare them as multichar symbols at the top of your lexc file.\n",
    "\n",
    "You will need seven new lexicons; you can call them: Verbs, V, V_e, V_s, Tense, Tense_e, Tense_s. (This structure is analogous to the noun lexicons Nouns, N, N_s, N_y, Num, Num_s, Num_y.)\n",
    "\n",
    "When you recompile your transducer, you should be able to generate word forms, such as talk+V+Prog -> talking."
   ]
  },
  {
   "cell_type": "code",
   "execution_count": null,
   "id": "1fb1dbac",
   "metadata": {},
   "outputs": [],
   "source": [
    "pass # write your solution here"
   ]
  },
  {
   "cell_type": "markdown",
   "id": "61169343",
   "metadata": {},
   "source": [
    "When you invert your transducer, you should be able to analyze word forms, such as missed -> miss+V+Past.\n",
    "Collect the analyses for the following surface forms: like, looked, smiling, crashing, searches."
   ]
  },
  {
   "cell_type": "code",
   "execution_count": null,
   "id": "8a7b2b44",
   "metadata": {},
   "outputs": [],
   "source": [
    "pass # write your solution here"
   ]
  }
 ],
 "metadata": {
  "jupytext": {
   "cell_metadata_filter": "-all",
   "main_language": "python",
   "notebook_metadata_filter": "-all"
  }
 },
 "nbformat": 4,
 "nbformat_minor": 5
}
